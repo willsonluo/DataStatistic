{
    "nbformat_minor": 1, 
    "cells": [
        {
            "source": "# My Jupyter Notebook on IBM Data Science Experience", 
            "cell_type": "markdown", 
            "metadata": {}
        }, 
        {
            "source": "**Willson Luo**  I am a big data analysis engineer.", 
            "cell_type": "markdown", 
            "metadata": {}
        }, 
        {
            "source": "*I am interested in data science because it can use data to describe things, also can discovered the inside of the data.* ", 
            "cell_type": "markdown", 
            "metadata": {}
        }, 
        {
            "source": "### Below is the python code.", 
            "cell_type": "markdown", 
            "metadata": {}
        }, 
        {
            "execution_count": 1, 
            "cell_type": "code", 
            "metadata": {}, 
            "outputs": [
                {
                    "output_type": "stream", 
                    "name": "stdout", 
                    "text": "Waiting for a Spark session to start...\nSpark Initialization Done! ApplicationId = app-20181024185651-0003\nhello world,the world is only: 2\n"
                }
            ], 
            "source": "print(\"hello world,the world is only:\",1+1)"
        }, 
        {
            "source": "---", 
            "cell_type": "markdown", 
            "metadata": {}
        }, 
        {
            "source": "| Name        | Age           | Favourate  |\n| ------------- |:-------------:| -----:|\n| Coco| 40 | lying |\n| Danil 22 | centered     |   dataing |\n| Icewing | 18 | painting  |", 
            "cell_type": "markdown", 
            "metadata": {}
        }, 
        {
            "source": "[This is my github\uff0cwelcome abort](https://github.com/willsonluo)", 
            "cell_type": "markdown", 
            "metadata": {}
        }, 
        {
            "source": "I am so execting to get the badge.\n![alt text](https://raw.githubusercontent.com/willsonluo/DataStatistic/master/data-science-orientation.png \"Data Science Orientation\")", 
            "cell_type": "markdown", 
            "metadata": {}
        }, 
        {
            "execution_count": null, 
            "cell_type": "code", 
            "metadata": {}, 
            "outputs": [], 
            "source": ""
        }
    ], 
    "metadata": {
        "kernelspec": {
            "display_name": "Python 3.5 with Spark", 
            "name": "python3", 
            "language": "python3"
        }, 
        "language_info": {
            "mimetype": "text/x-python", 
            "nbconvert_exporter": "python", 
            "version": "3.5.4", 
            "name": "python", 
            "file_extension": ".py", 
            "pygments_lexer": "ipython3", 
            "codemirror_mode": {
                "version": 3, 
                "name": "ipython"
            }
        }
    }, 
    "nbformat": 4
}