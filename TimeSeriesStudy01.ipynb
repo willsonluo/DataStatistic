{
 "cells": [
  {
   "cell_type": "markdown",
   "metadata": {},
   "source": [
    "# 时间序列的演示"
   ]
  },
  {
   "cell_type": "code",
   "execution_count": 1,
   "metadata": {},
   "outputs": [],
   "source": [
    "import pandas as pd"
   ]
  },
  {
   "cell_type": "code",
   "execution_count": 2,
   "metadata": {},
   "outputs": [],
   "source": [
    "from datetime import datetime"
   ]
  },
  {
   "cell_type": "code",
   "execution_count": 3,
   "metadata": {},
   "outputs": [],
   "source": [
    "now = datetime.now()"
   ]
  },
  {
   "cell_type": "code",
   "execution_count": 4,
   "metadata": {},
   "outputs": [
    {
     "data": {
      "text/plain": [
       "datetime.datetime(2018, 9, 21, 6, 15, 51, 115688)"
      ]
     },
     "execution_count": 4,
     "metadata": {},
     "output_type": "execute_result"
    }
   ],
   "source": [
    "now"
   ]
  },
  {
   "cell_type": "code",
   "execution_count": 5,
   "metadata": {},
   "outputs": [
    {
     "data": {
      "text/plain": [
       "2018"
      ]
     },
     "execution_count": 5,
     "metadata": {},
     "output_type": "execute_result"
    }
   ],
   "source": [
    "now.year"
   ]
  },
  {
   "cell_type": "code",
   "execution_count": 6,
   "metadata": {},
   "outputs": [
    {
     "data": {
      "text/plain": [
       "9"
      ]
     },
     "execution_count": 6,
     "metadata": {},
     "output_type": "execute_result"
    }
   ],
   "source": [
    "now.month"
   ]
  },
  {
   "cell_type": "code",
   "execution_count": 7,
   "metadata": {},
   "outputs": [
    {
     "data": {
      "text/plain": [
       "6"
      ]
     },
     "execution_count": 7,
     "metadata": {},
     "output_type": "execute_result"
    }
   ],
   "source": [
    "now.hour"
   ]
  },
  {
   "cell_type": "code",
   "execution_count": 8,
   "metadata": {},
   "outputs": [
    {
     "data": {
      "text/plain": [
       "datetime.timedelta(0, 10)"
      ]
     },
     "execution_count": 8,
     "metadata": {},
     "output_type": "execute_result"
    }
   ],
   "source": [
    "delta = datetime(2017,1,18,11,1,20,110) - datetime(2017,1,18,11,1,10,110)\n",
    "delta"
   ]
  },
  {
   "cell_type": "markdown",
   "metadata": {},
   "source": [
    "**如何获取timedelta的数据，日和秒，要复数**"
   ]
  },
  {
   "cell_type": "code",
   "execution_count": 9,
   "metadata": {},
   "outputs": [
    {
     "data": {
      "text/plain": [
       "0"
      ]
     },
     "execution_count": 9,
     "metadata": {},
     "output_type": "execute_result"
    }
   ],
   "source": [
    "delta.days"
   ]
  },
  {
   "cell_type": "code",
   "execution_count": 10,
   "metadata": {},
   "outputs": [
    {
     "data": {
      "text/plain": [
       "10"
      ]
     },
     "execution_count": 10,
     "metadata": {},
     "output_type": "execute_result"
    }
   ],
   "source": [
    "delta.seconds"
   ]
  },
  {
   "cell_type": "code",
   "execution_count": 11,
   "metadata": {},
   "outputs": [],
   "source": [
    "stamp = datetime(2018,11,11)"
   ]
  },
  {
   "cell_type": "markdown",
   "metadata": {},
   "source": [
    "**如何从时间格式变成String格式**"
   ]
  },
  {
   "cell_type": "code",
   "execution_count": 12,
   "metadata": {},
   "outputs": [
    {
     "data": {
      "text/plain": [
       "'2018-11-11 00:00:00'"
      ]
     },
     "execution_count": 12,
     "metadata": {},
     "output_type": "execute_result"
    }
   ],
   "source": [
    "str(stamp)"
   ]
  },
  {
   "cell_type": "markdown",
   "metadata": {},
   "source": [
    "**周的表示**"
   ]
  },
  {
   "cell_type": "code",
   "execution_count": 13,
   "metadata": {},
   "outputs": [
    {
     "data": {
      "text/plain": [
       "'45'"
      ]
     },
     "execution_count": 13,
     "metadata": {},
     "output_type": "execute_result"
    }
   ],
   "source": [
    "stamp.strftime('%U')"
   ]
  },
  {
   "cell_type": "markdown",
   "metadata": {},
   "source": [
    "**万能时间识别**"
   ]
  },
  {
   "cell_type": "code",
   "execution_count": 14,
   "metadata": {},
   "outputs": [
    {
     "data": {
      "text/plain": [
       "datetime.datetime(2018, 1, 1, 10, 10, 1)"
      ]
     },
     "execution_count": 14,
     "metadata": {},
     "output_type": "execute_result"
    }
   ],
   "source": [
    "from dateutil.parser import parse\n",
    "parse('2018/01/01 10:10:01')"
   ]
  },
  {
   "cell_type": "code",
   "execution_count": 15,
   "metadata": {},
   "outputs": [
    {
     "data": {
      "text/plain": [
       "DatetimeIndex(['2018-01-01', '2017-01-02'], dtype='datetime64[ns]', freq=None)"
      ]
     },
     "execution_count": 15,
     "metadata": {},
     "output_type": "execute_result"
    }
   ],
   "source": [
    "datetrs = ['2018/01/01','2017/01/02']\n",
    "datetrs_2datetime = pd.to_datetime(datetrs)\n",
    "datetrs_2datetime"
   ]
  },
  {
   "cell_type": "code",
   "execution_count": 16,
   "metadata": {},
   "outputs": [],
   "source": [
    "import numpy as np\n",
    "ts = pd.Series(np.random.randn(2),index = datetrs_2datetime)"
   ]
  },
  {
   "cell_type": "markdown",
   "metadata": {},
   "source": [
    "**如何变成时间序列的dataframe**"
   ]
  },
  {
   "cell_type": "code",
   "execution_count": 17,
   "metadata": {},
   "outputs": [
    {
     "data": {
      "text/plain": [
       "DatetimeIndex(['2018-01-01', '2017-01-02'], dtype='datetime64[ns]', freq=None)"
      ]
     },
     "execution_count": 17,
     "metadata": {},
     "output_type": "execute_result"
    }
   ],
   "source": [
    "ts.index"
   ]
  },
  {
   "cell_type": "markdown",
   "metadata": {},
   "source": [
    "**直接输入日期也可以找到对应的值**"
   ]
  },
  {
   "cell_type": "code",
   "execution_count": 18,
   "metadata": {},
   "outputs": [
    {
     "data": {
      "text/plain": [
       "2018-01-01   -0.401706\n",
       "dtype: float64"
      ]
     },
     "execution_count": 18,
     "metadata": {},
     "output_type": "execute_result"
    }
   ],
   "source": [
    "ts['2018/01/01']"
   ]
  },
  {
   "cell_type": "code",
   "execution_count": 19,
   "metadata": {},
   "outputs": [
    {
     "data": {
      "text/plain": [
       "2018-01-01   -0.401706\n",
       "2017-01-02   -1.755889\n",
       "dtype: float64"
      ]
     },
     "execution_count": 19,
     "metadata": {},
     "output_type": "execute_result"
    }
   ],
   "source": [
    "ts"
   ]
  },
  {
   "cell_type": "markdown",
   "metadata": {},
   "source": [
    "**长时间序列的例子**"
   ]
  },
  {
   "cell_type": "code",
   "execution_count": 20,
   "metadata": {},
   "outputs": [],
   "source": [
    "longer_ts = pd.Series(np.random.randn(1000),index=pd.date_range('1/1/2011',periods=1000))"
   ]
  },
  {
   "cell_type": "code",
   "execution_count": 21,
   "metadata": {},
   "outputs": [
    {
     "data": {
      "text/plain": [
       "2011-01-01    1.115561\n",
       "2011-01-02   -2.354566\n",
       "2011-01-03    1.315744\n",
       "2011-01-04    0.028046\n",
       "2011-01-05    0.040957\n",
       "2011-01-06   -0.834180\n",
       "2011-01-07   -0.977188\n",
       "2011-01-08    0.715274\n",
       "2011-01-09   -1.263560\n",
       "2011-01-10   -0.137901\n",
       "2011-01-11   -1.306840\n",
       "2011-01-12   -1.173332\n",
       "2011-01-13    0.704828\n",
       "2011-01-14    0.334531\n",
       "2011-01-15   -0.672806\n",
       "2011-01-16   -1.157035\n",
       "2011-01-17    0.875492\n",
       "2011-01-18   -0.621911\n",
       "2011-01-19    0.750415\n",
       "2011-01-20   -0.570674\n",
       "2011-01-21   -0.233889\n",
       "2011-01-22   -0.461361\n",
       "2011-01-23    1.946082\n",
       "2011-01-24    1.914943\n",
       "2011-01-25   -0.185635\n",
       "2011-01-26   -1.922463\n",
       "2011-01-27   -0.965326\n",
       "2011-01-28   -0.634364\n",
       "2011-01-29   -0.114259\n",
       "2011-01-30    0.508825\n",
       "                ...   \n",
       "2013-08-28    0.644517\n",
       "2013-08-29    0.272357\n",
       "2013-08-30   -1.264444\n",
       "2013-08-31   -1.142795\n",
       "2013-09-01   -0.121534\n",
       "2013-09-02    1.327212\n",
       "2013-09-03   -0.338651\n",
       "2013-09-04   -0.258968\n",
       "2013-09-05    0.670993\n",
       "2013-09-06   -1.042289\n",
       "2013-09-07   -1.322000\n",
       "2013-09-08    1.278827\n",
       "2013-09-09    0.638996\n",
       "2013-09-10   -0.848484\n",
       "2013-09-11    1.043447\n",
       "2013-09-12    1.993450\n",
       "2013-09-13    0.823689\n",
       "2013-09-14    0.961072\n",
       "2013-09-15    0.340609\n",
       "2013-09-16    0.993091\n",
       "2013-09-17   -0.446388\n",
       "2013-09-18    2.373558\n",
       "2013-09-19   -1.001969\n",
       "2013-09-20    0.276383\n",
       "2013-09-21    0.152008\n",
       "2013-09-22   -0.250206\n",
       "2013-09-23   -0.221350\n",
       "2013-09-24    1.407906\n",
       "2013-09-25   -0.570860\n",
       "2013-09-26    0.286521\n",
       "Freq: D, Length: 1000, dtype: float64"
      ]
     },
     "execution_count": 21,
     "metadata": {},
     "output_type": "execute_result"
    }
   ],
   "source": [
    "longer_ts"
   ]
  },
  {
   "cell_type": "markdown",
   "metadata": {},
   "source": [
    "**时间切片**"
   ]
  },
  {
   "cell_type": "code",
   "execution_count": 22,
   "metadata": {},
   "outputs": [
    {
     "data": {
      "text/plain": [
       "2013-01-01    0.117587\n",
       "2013-01-02    0.226600\n",
       "2013-01-03    1.506159\n",
       "2013-01-04    1.336594\n",
       "2013-01-05    0.387199\n",
       "2013-01-06   -0.333999\n",
       "2013-01-07   -0.960374\n",
       "2013-01-08    1.353667\n",
       "2013-01-09   -0.374041\n",
       "2013-01-10    1.012735\n",
       "2013-01-11   -0.286643\n",
       "2013-01-12   -1.665110\n",
       "2013-01-13    1.542941\n",
       "2013-01-14    0.385298\n",
       "2013-01-15    0.848728\n",
       "2013-01-16    0.786104\n",
       "2013-01-17    1.378748\n",
       "2013-01-18    0.435149\n",
       "2013-01-19   -0.128094\n",
       "2013-01-20    0.634306\n",
       "2013-01-21   -1.177628\n",
       "2013-01-22    1.103957\n",
       "2013-01-23   -1.608871\n",
       "2013-01-24    1.203211\n",
       "2013-01-25   -1.181108\n",
       "2013-01-26   -1.472622\n",
       "2013-01-27    1.412668\n",
       "2013-01-28   -0.214824\n",
       "2013-01-29    0.603896\n",
       "2013-01-30   -0.011322\n",
       "                ...   \n",
       "2013-08-28    0.644517\n",
       "2013-08-29    0.272357\n",
       "2013-08-30   -1.264444\n",
       "2013-08-31   -1.142795\n",
       "2013-09-01   -0.121534\n",
       "2013-09-02    1.327212\n",
       "2013-09-03   -0.338651\n",
       "2013-09-04   -0.258968\n",
       "2013-09-05    0.670993\n",
       "2013-09-06   -1.042289\n",
       "2013-09-07   -1.322000\n",
       "2013-09-08    1.278827\n",
       "2013-09-09    0.638996\n",
       "2013-09-10   -0.848484\n",
       "2013-09-11    1.043447\n",
       "2013-09-12    1.993450\n",
       "2013-09-13    0.823689\n",
       "2013-09-14    0.961072\n",
       "2013-09-15    0.340609\n",
       "2013-09-16    0.993091\n",
       "2013-09-17   -0.446388\n",
       "2013-09-18    2.373558\n",
       "2013-09-19   -1.001969\n",
       "2013-09-20    0.276383\n",
       "2013-09-21    0.152008\n",
       "2013-09-22   -0.250206\n",
       "2013-09-23   -0.221350\n",
       "2013-09-24    1.407906\n",
       "2013-09-25   -0.570860\n",
       "2013-09-26    0.286521\n",
       "Freq: D, Length: 269, dtype: float64"
      ]
     },
     "execution_count": 22,
     "metadata": {},
     "output_type": "execute_result"
    }
   ],
   "source": [
    "longer_ts['2013/01/01':]  ##longer_ts[datetime(2013,1,1):] "
   ]
  },
  {
   "cell_type": "code",
   "execution_count": 23,
   "metadata": {},
   "outputs": [
    {
     "data": {
      "text/plain": [
       "2013-01-01    0.117587\n",
       "2013-01-02    0.226600\n",
       "2013-01-03    1.506159\n",
       "2013-01-04    1.336594\n",
       "2013-01-05    0.387199\n",
       "2013-01-06   -0.333999\n",
       "2013-01-07   -0.960374\n",
       "2013-01-08    1.353667\n",
       "2013-01-09   -0.374041\n",
       "2013-01-10    1.012735\n",
       "2013-01-11   -0.286643\n",
       "2013-01-12   -1.665110\n",
       "2013-01-13    1.542941\n",
       "2013-01-14    0.385298\n",
       "2013-01-15    0.848728\n",
       "2013-01-16    0.786104\n",
       "2013-01-17    1.378748\n",
       "2013-01-18    0.435149\n",
       "2013-01-19   -0.128094\n",
       "2013-01-20    0.634306\n",
       "2013-01-21   -1.177628\n",
       "2013-01-22    1.103957\n",
       "2013-01-23   -1.608871\n",
       "2013-01-24    1.203211\n",
       "2013-01-25   -1.181108\n",
       "2013-01-26   -1.472622\n",
       "2013-01-27    1.412668\n",
       "2013-01-28   -0.214824\n",
       "2013-01-29    0.603896\n",
       "2013-01-30   -0.011322\n",
       "2013-01-31   -0.104901\n",
       "2013-02-01    2.200497\n",
       "Freq: D, dtype: float64"
      ]
     },
     "execution_count": 23,
     "metadata": {},
     "output_type": "execute_result"
    }
   ],
   "source": [
    "longer_ts['2013/01/01':'2013/02/01']"
   ]
  },
  {
   "cell_type": "code",
   "execution_count": 24,
   "metadata": {},
   "outputs": [
    {
     "data": {
      "text/plain": [
       "2011-01-01    1.115561\n",
       "2011-01-02   -2.354566\n",
       "2011-01-03    1.315744\n",
       "2011-01-04    0.028046\n",
       "2011-01-05    0.040957\n",
       "2011-01-06   -0.834180\n",
       "2011-01-07   -0.977188\n",
       "2011-01-08    0.715274\n",
       "2011-01-09   -1.263560\n",
       "2011-01-10   -0.137901\n",
       "2011-01-11   -1.306840\n",
       "2011-01-12   -1.173332\n",
       "2011-01-13    0.704828\n",
       "2011-01-14    0.334531\n",
       "2011-01-15   -0.672806\n",
       "2011-01-16   -1.157035\n",
       "2011-01-17    0.875492\n",
       "2011-01-18   -0.621911\n",
       "2011-01-19    0.750415\n",
       "2011-01-20   -0.570674\n",
       "2011-01-21   -0.233889\n",
       "2011-01-22   -0.461361\n",
       "2011-01-23    1.946082\n",
       "2011-01-24    1.914943\n",
       "2011-01-25   -0.185635\n",
       "2011-01-26   -1.922463\n",
       "2011-01-27   -0.965326\n",
       "2011-01-28   -0.634364\n",
       "2011-01-29   -0.114259\n",
       "2011-01-30    0.508825\n",
       "                ...   \n",
       "2012-12-03    0.025217\n",
       "2012-12-04   -0.383672\n",
       "2012-12-05    0.439629\n",
       "2012-12-06   -0.775169\n",
       "2012-12-07   -0.429217\n",
       "2012-12-08   -0.260058\n",
       "2012-12-09   -0.272054\n",
       "2012-12-10    1.023774\n",
       "2012-12-11   -1.079227\n",
       "2012-12-12    0.353465\n",
       "2012-12-13   -0.256901\n",
       "2012-12-14    2.183349\n",
       "2012-12-15    1.610908\n",
       "2012-12-16    0.661997\n",
       "2012-12-17   -0.184935\n",
       "2012-12-18    0.972859\n",
       "2012-12-19    1.286695\n",
       "2012-12-20    0.539342\n",
       "2012-12-21    1.560294\n",
       "2012-12-22    1.225465\n",
       "2012-12-23    0.221810\n",
       "2012-12-24    1.678055\n",
       "2012-12-25   -0.008235\n",
       "2012-12-26   -1.208244\n",
       "2012-12-27   -0.014805\n",
       "2012-12-28    0.767013\n",
       "2012-12-29   -0.555252\n",
       "2012-12-30   -0.014602\n",
       "2012-12-31   -0.155505\n",
       "2013-01-01    0.117587\n",
       "Freq: D, Length: 732, dtype: float64"
      ]
     },
     "execution_count": 24,
     "metadata": {},
     "output_type": "execute_result"
    }
   ],
   "source": [
    "longer_ts.truncate(after = '2013/01/01') ## 在日期以后就不要了"
   ]
  },
  {
   "cell_type": "markdown",
   "metadata": {},
   "source": [
    "**重复索引的处理办法**"
   ]
  },
  {
   "cell_type": "code",
   "execution_count": 25,
   "metadata": {},
   "outputs": [
    {
     "data": {
      "text/plain": [
       "2017/01/01    0\n",
       "2017/01/02    1\n",
       "2017/01/03    2\n",
       "2017/01/02    3\n",
       "dtype: int32"
      ]
     },
     "execution_count": 25,
     "metadata": {},
     "output_type": "execute_result"
    }
   ],
   "source": [
    "dates = ['2017/01/01','2017/01/02','2017/01/03','2017/01/02']\n",
    "dup_ts = pd.Series(np.arange(4),index = dates)\n",
    "dup_ts"
   ]
  },
  {
   "cell_type": "code",
   "execution_count": 26,
   "metadata": {},
   "outputs": [
    {
     "data": {
      "text/plain": [
       "False"
      ]
     },
     "execution_count": 26,
     "metadata": {},
     "output_type": "execute_result"
    }
   ],
   "source": [
    "dup_ts.index.is_unique"
   ]
  },
  {
   "cell_type": "code",
   "execution_count": 27,
   "metadata": {},
   "outputs": [
    {
     "data": {
      "text/plain": [
       "2017/01/01    0\n",
       "2017/01/02    2\n",
       "2017/01/03    2\n",
       "dtype: int32"
      ]
     },
     "execution_count": 27,
     "metadata": {},
     "output_type": "execute_result"
    }
   ],
   "source": [
    "grouped = dup_ts.groupby(level=0) ## level=0，索引的唯一一层\n",
    "grouped.mean()"
   ]
  },
  {
   "cell_type": "code",
   "execution_count": 28,
   "metadata": {},
   "outputs": [
    {
     "data": {
      "text/plain": [
       "2017/01/01    0\n",
       "2017/01/02    4\n",
       "2017/01/03    2\n",
       "dtype: int32"
      ]
     },
     "execution_count": 28,
     "metadata": {},
     "output_type": "execute_result"
    }
   ],
   "source": [
    "grouped.sum()"
   ]
  },
  {
   "cell_type": "code",
   "execution_count": 29,
   "metadata": {},
   "outputs": [
    {
     "data": {
      "text/plain": [
       "2017/01/01    1\n",
       "2017/01/02    2\n",
       "2017/01/03    1\n",
       "dtype: int64"
      ]
     },
     "execution_count": 29,
     "metadata": {},
     "output_type": "execute_result"
    }
   ],
   "source": [
    "grouped.count()"
   ]
  },
  {
   "cell_type": "code",
   "execution_count": 30,
   "metadata": {},
   "outputs": [
    {
     "data": {
      "text/plain": [
       "2018-01-01   -0.401706\n",
       "2017-01-02   -1.755889\n",
       "dtype: float64"
      ]
     },
     "execution_count": 30,
     "metadata": {},
     "output_type": "execute_result"
    }
   ],
   "source": [
    "ts"
   ]
  },
  {
   "cell_type": "markdown",
   "metadata": {},
   "source": [
    "**pd.date_range('4/1/2011','5/2/2011') or period生成日期范围**"
   ]
  },
  {
   "cell_type": "code",
   "execution_count": 31,
   "metadata": {},
   "outputs": [
    {
     "data": {
      "text/plain": [
       "DatetimeIndex(['2011-04-01', '2011-04-02', '2011-04-03', '2011-04-04',\n",
       "               '2011-04-05', '2011-04-06', '2011-04-07', '2011-04-08',\n",
       "               '2011-04-09', '2011-04-10', '2011-04-11', '2011-04-12',\n",
       "               '2011-04-13', '2011-04-14', '2011-04-15', '2011-04-16',\n",
       "               '2011-04-17', '2011-04-18', '2011-04-19', '2011-04-20',\n",
       "               '2011-04-21', '2011-04-22', '2011-04-23', '2011-04-24',\n",
       "               '2011-04-25', '2011-04-26', '2011-04-27', '2011-04-28',\n",
       "               '2011-04-29', '2011-04-30', '2011-05-01', '2011-05-02'],\n",
       "              dtype='datetime64[ns]', freq='D')"
      ]
     },
     "execution_count": 31,
     "metadata": {},
     "output_type": "execute_result"
    }
   ],
   "source": [
    "pd.date_range('4/1/2011','5/2/2011')  "
   ]
  },
  {
   "cell_type": "code",
   "execution_count": 32,
   "metadata": {},
   "outputs": [
    {
     "data": {
      "text/plain": [
       "DatetimeIndex(['2011-04-01', '2011-04-02', '2011-04-03', '2011-04-04',\n",
       "               '2011-04-05', '2011-04-06', '2011-04-07', '2011-04-08',\n",
       "               '2011-04-09', '2011-04-10', '2011-04-11', '2011-04-12',\n",
       "               '2011-04-13', '2011-04-14', '2011-04-15', '2011-04-16',\n",
       "               '2011-04-17', '2011-04-18', '2011-04-19', '2011-04-20'],\n",
       "              dtype='datetime64[ns]', freq='D')"
      ]
     },
     "execution_count": 32,
     "metadata": {},
     "output_type": "execute_result"
    }
   ],
   "source": [
    "pd.date_range('4/1/2011',periods = 20)  "
   ]
  },
  {
   "cell_type": "code",
   "execution_count": 33,
   "metadata": {},
   "outputs": [
    {
     "data": {
      "text/plain": [
       "DatetimeIndex(['2011-04-29', '2011-05-31', '2011-06-30', '2011-07-29',\n",
       "               '2011-08-31', '2011-09-30', '2011-10-31', '2011-11-30',\n",
       "               '2011-12-30', '2012-01-31', '2012-02-29', '2012-03-30',\n",
       "               '2012-04-30', '2012-05-31', '2012-06-29', '2012-07-31',\n",
       "               '2012-08-31', '2012-09-28', '2012-10-31', '2012-11-30',\n",
       "               '2012-12-31', '2013-01-31', '2013-02-28', '2013-03-29',\n",
       "               '2013-04-30'],\n",
       "              dtype='datetime64[ns]', freq='BM')"
      ]
     },
     "execution_count": 33,
     "metadata": {},
     "output_type": "execute_result"
    }
   ],
   "source": [
    "pd.date_range('4/1/2011','5/2/2013',freq = 'BM')   ## BM = Business end of Month 每月最后一天"
   ]
  },
  {
   "cell_type": "code",
   "execution_count": 34,
   "metadata": {},
   "outputs": [
    {
     "data": {
      "text/plain": [
       "DatetimeIndex(['2011-04-01 12:00:01', '2011-04-02 12:00:01',\n",
       "               '2011-04-03 12:00:01', '2011-04-04 12:00:01',\n",
       "               '2011-04-05 12:00:01', '2011-04-06 12:00:01',\n",
       "               '2011-04-07 12:00:01', '2011-04-08 12:00:01',\n",
       "               '2011-04-09 12:00:01', '2011-04-10 12:00:01',\n",
       "               '2011-04-11 12:00:01', '2011-04-12 12:00:01',\n",
       "               '2011-04-13 12:00:01', '2011-04-14 12:00:01',\n",
       "               '2011-04-15 12:00:01', '2011-04-16 12:00:01',\n",
       "               '2011-04-17 12:00:01', '2011-04-18 12:00:01',\n",
       "               '2011-04-19 12:00:01', '2011-04-20 12:00:01'],\n",
       "              dtype='datetime64[ns]', freq='D')"
      ]
     },
     "execution_count": 34,
     "metadata": {},
     "output_type": "execute_result"
    }
   ],
   "source": [
    "pd.date_range('4/1/2011 12:00:01',periods = 20) "
   ]
  },
  {
   "cell_type": "code",
   "execution_count": 35,
   "metadata": {},
   "outputs": [
    {
     "data": {
      "text/plain": [
       "DatetimeIndex(['2011-04-01', '2011-04-02', '2011-04-03', '2011-04-04',\n",
       "               '2011-04-05', '2011-04-06', '2011-04-07', '2011-04-08',\n",
       "               '2011-04-09', '2011-04-10', '2011-04-11', '2011-04-12',\n",
       "               '2011-04-13', '2011-04-14', '2011-04-15', '2011-04-16',\n",
       "               '2011-04-17', '2011-04-18', '2011-04-19', '2011-04-20'],\n",
       "              dtype='datetime64[ns]', freq='D')"
      ]
     },
     "execution_count": 35,
     "metadata": {},
     "output_type": "execute_result"
    }
   ],
   "source": [
    "pd.date_range('4/1/2011 12:00:01',periods = 20, normalize=True)  ## 全部规范到0点了"
   ]
  },
  {
   "cell_type": "markdown",
   "metadata": {},
   "source": [
    "**freq频率和时间偏移**"
   ]
  },
  {
   "cell_type": "code",
   "execution_count": 62,
   "metadata": {},
   "outputs": [],
   "source": [
    "from pandas.tseries.offsets import Hour, Minute, Day, MonthEnd\n",
    "import pandas as pd"
   ]
  },
  {
   "cell_type": "markdown",
   "metadata": {},
   "source": [
    "**需要参考时间序列的基础频率**"
   ]
  },
  {
   "cell_type": "code",
   "execution_count": 42,
   "metadata": {},
   "outputs": [
    {
     "data": {
      "text/plain": [
       "DatetimeIndex(['2011-01-01 00:00:00', '2011-01-11 02:30:00',\n",
       "               '2011-01-21 05:00:00', '2011-01-31 07:30:00',\n",
       "               '2011-02-10 10:00:00', '2011-02-20 12:30:00',\n",
       "               '2011-03-02 15:00:00', '2011-03-12 17:30:00',\n",
       "               '2011-03-22 20:00:00', '2011-04-01 22:30:00',\n",
       "               ...\n",
       "               '2016-09-22 13:30:00', '2016-10-02 16:00:00',\n",
       "               '2016-10-12 18:30:00', '2016-10-22 21:00:00',\n",
       "               '2016-11-01 23:30:00', '2016-11-12 02:00:00',\n",
       "               '2016-11-22 04:30:00', '2016-12-02 07:00:00',\n",
       "               '2016-12-12 09:30:00', '2016-12-22 12:00:00'],\n",
       "              dtype='datetime64[ns]', length=217, freq='14550T')"
      ]
     },
     "execution_count": 42,
     "metadata": {},
     "output_type": "execute_result"
    }
   ],
   "source": [
    "pd.date_range('1/1/2011','1/1/2017',freq = '10d2h30min') ## 以10天2小时30分钟作为一个周期"
   ]
  },
  {
   "cell_type": "code",
   "execution_count": 43,
   "metadata": {},
   "outputs": [
    {
     "data": {
      "text/plain": [
       "DatetimeIndex(['2011-01-31', '2011-02-28', '2011-03-31', '2011-04-29',\n",
       "               '2011-05-31', '2011-06-30', '2011-07-29', '2011-08-31',\n",
       "               '2011-09-30', '2011-10-31', '2011-11-30', '2011-12-30',\n",
       "               '2012-01-31', '2012-02-29', '2012-03-30', '2012-04-30',\n",
       "               '2012-05-31', '2012-06-29', '2012-07-31', '2012-08-31',\n",
       "               '2012-09-28', '2012-10-31', '2012-11-30', '2012-12-31',\n",
       "               '2013-01-31', '2013-02-28', '2013-03-29', '2013-04-30',\n",
       "               '2013-05-31', '2013-06-28', '2013-07-31', '2013-08-30',\n",
       "               '2013-09-30', '2013-10-31', '2013-11-29', '2013-12-31',\n",
       "               '2014-01-31', '2014-02-28', '2014-03-31', '2014-04-30',\n",
       "               '2014-05-30', '2014-06-30', '2014-07-31', '2014-08-29',\n",
       "               '2014-09-30', '2014-10-31', '2014-11-28', '2014-12-31',\n",
       "               '2015-01-30', '2015-02-27', '2015-03-31', '2015-04-30',\n",
       "               '2015-05-29', '2015-06-30', '2015-07-31', '2015-08-31',\n",
       "               '2015-09-30', '2015-10-30', '2015-11-30', '2015-12-31',\n",
       "               '2016-01-29', '2016-02-29', '2016-03-31', '2016-04-29',\n",
       "               '2016-05-31', '2016-06-30', '2016-07-29', '2016-08-31',\n",
       "               '2016-09-30', '2016-10-31', '2016-11-30', '2016-12-30'],\n",
       "              dtype='datetime64[ns]', freq='BM')"
      ]
     },
     "execution_count": 43,
     "metadata": {},
     "output_type": "execute_result"
    }
   ],
   "source": [
    "pd.date_range('1/1/2011','1/1/2017',freq = 'BM') ## BM是每个月最后一个工作日，M是每个月最后一天"
   ]
  },
  {
   "cell_type": "markdown",
   "metadata": {},
   "source": [
    "**WOM 日期 （Week Of Month)**"
   ]
  },
  {
   "cell_type": "code",
   "execution_count": 46,
   "metadata": {},
   "outputs": [
    {
     "data": {
      "text/plain": [
       "2018-01-31    0.574018\n",
       "2018-02-28    1.099188\n",
       "2018-03-31   -0.100453\n",
       "2018-04-30   -1.050006\n",
       "2018-05-31   -1.312533\n",
       "2018-06-30   -0.545655\n",
       "2018-07-31    0.123292\n",
       "2018-08-31    0.241423\n",
       "2018-09-30    1.039583\n",
       "2018-10-31    2.109472\n",
       "Freq: M, dtype: float64"
      ]
     },
     "execution_count": 46,
     "metadata": {},
     "output_type": "execute_result"
    }
   ],
   "source": [
    "ts = pd.Series(np.random.randn(10),index = pd.date_range('2018/01/01',periods=10, freq = 'M'))\n",
    "ts"
   ]
  },
  {
   "cell_type": "markdown",
   "metadata": {},
   "source": [
    "**shift保持索引不变，数据移动（小心，整个datafram会被改变)**"
   ]
  },
  {
   "cell_type": "code",
   "execution_count": 47,
   "metadata": {},
   "outputs": [
    {
     "data": {
      "text/plain": [
       "2018-01-31          NaN\n",
       "2018-02-28          NaN\n",
       "2018-03-31    -0.175000\n",
       "2018-04-30    -0.955256\n",
       "2018-05-31    13.066076\n",
       "2018-06-30     0.519668\n",
       "2018-07-31    -0.093934\n",
       "2018-08-31    -0.442446\n",
       "2018-09-30     8.431879\n",
       "2018-10-31     8.737673\n",
       "Freq: M, dtype: float64"
      ]
     },
     "execution_count": 47,
     "metadata": {},
     "output_type": "execute_result"
    }
   ],
   "source": [
    "ts / ts.shift(2) ## 移动的是数据，时间序列没改变"
   ]
  },
  {
   "cell_type": "code",
   "execution_count": 49,
   "metadata": {},
   "outputs": [
    {
     "data": {
      "text/plain": [
       "2018-03-31    0.574018\n",
       "2018-04-30    1.099188\n",
       "2018-05-31   -0.100453\n",
       "2018-06-30   -1.050006\n",
       "2018-07-31   -1.312533\n",
       "2018-08-31   -0.545655\n",
       "2018-09-30    0.123292\n",
       "2018-10-31    0.241423\n",
       "2018-11-30    1.039583\n",
       "2018-12-31    2.109472\n",
       "Freq: M, dtype: float64"
      ]
     },
     "execution_count": 49,
     "metadata": {},
     "output_type": "execute_result"
    }
   ],
   "source": [
    "ts.shift(2,freq ='M') ## 移动的时间序列，数据没有少"
   ]
  },
  {
   "cell_type": "markdown",
   "metadata": {},
   "source": [
    "**rollfoware,rollback锚点偏移量**"
   ]
  },
  {
   "cell_type": "code",
   "execution_count": 63,
   "metadata": {},
   "outputs": [
    {
     "data": {
      "text/plain": [
       "<10 * MonthEnds>"
      ]
     },
     "execution_count": 63,
     "metadata": {},
     "output_type": "execute_result"
    }
   ],
   "source": [
    "offset = MonthEnd(10)\n",
    "offset"
   ]
  },
  {
   "cell_type": "code",
   "execution_count": 64,
   "metadata": {},
   "outputs": [
    {
     "data": {
      "text/plain": [
       "datetime.datetime(2018, 9, 21, 6, 15, 51, 115688)"
      ]
     },
     "execution_count": 64,
     "metadata": {},
     "output_type": "execute_result"
    }
   ],
   "source": [
    "now"
   ]
  },
  {
   "cell_type": "code",
   "execution_count": 65,
   "metadata": {},
   "outputs": [
    {
     "data": {
      "text/plain": [
       "Timestamp('2018-09-30 06:15:51.115688')"
      ]
     },
     "execution_count": 65,
     "metadata": {},
     "output_type": "execute_result"
    }
   ],
   "source": [
    "offset.rollforward(now)"
   ]
  },
  {
   "cell_type": "code",
   "execution_count": 107,
   "metadata": {},
   "outputs": [
    {
     "data": {
      "text/plain": [
       "2017-01-01    0.325941\n",
       "2017-01-05    1.539194\n",
       "2017-01-09    0.612828\n",
       "2017-01-13   -0.847147\n",
       "2017-01-17   -0.585982\n",
       "2017-01-21   -0.348241\n",
       "2017-01-25   -0.010829\n",
       "2017-01-29   -0.522178\n",
       "2017-02-02    1.117981\n",
       "2017-02-06   -0.916257\n",
       "2017-02-10    0.338294\n",
       "2017-02-14    1.249560\n",
       "2017-02-18   -0.074006\n",
       "2017-02-22   -0.419413\n",
       "2017-02-26   -1.542494\n",
       "2017-03-02   -0.345037\n",
       "2017-03-06   -0.622881\n",
       "2017-03-10    0.775680\n",
       "2017-03-14    0.275692\n",
       "2017-03-18    1.557854\n",
       "2017-03-22   -0.146654\n",
       "2017-03-26   -0.621211\n",
       "2017-03-30   -0.023271\n",
       "2017-04-03   -0.789121\n",
       "2017-04-07    0.859332\n",
       "2017-04-11    0.805846\n",
       "2017-04-15   -0.555458\n",
       "2017-04-19    0.199899\n",
       "2017-04-23   -0.940088\n",
       "2017-04-27    0.797756\n",
       "                ...   \n",
       "2017-10-08    0.277662\n",
       "2017-10-12   -0.012389\n",
       "2017-10-16    0.715409\n",
       "2017-10-20   -0.838917\n",
       "2017-10-24    0.622157\n",
       "2017-10-28   -0.227817\n",
       "2017-11-01    0.283799\n",
       "2017-11-05    1.806495\n",
       "2017-11-09   -0.100723\n",
       "2017-11-13    0.994841\n",
       "2017-11-17   -2.379259\n",
       "2017-11-21   -0.402158\n",
       "2017-11-25    0.074915\n",
       "2017-11-29    0.448750\n",
       "2017-12-03    0.850032\n",
       "2017-12-07    1.210926\n",
       "2017-12-11    0.534084\n",
       "2017-12-15    0.588339\n",
       "2017-12-19    1.696954\n",
       "2017-12-23   -1.987578\n",
       "2017-12-27   -0.669377\n",
       "2017-12-31    0.035077\n",
       "2018-01-04   -1.270366\n",
       "2018-01-08   -0.952905\n",
       "2018-01-12    0.492842\n",
       "2018-01-16   -0.224831\n",
       "2018-01-20   -0.307869\n",
       "2018-01-24   -0.242113\n",
       "2018-01-28   -0.160409\n",
       "2018-02-01   -0.019357\n",
       "Freq: 4D, Length: 100, dtype: float64"
      ]
     },
     "execution_count": 107,
     "metadata": {},
     "output_type": "execute_result"
    }
   ],
   "source": [
    "ts = pd.Series(np.random.randn(100),index=pd.date_range(start = '1/1/2017',periods=100,freq = \"4d\"))\n",
    "ts"
   ]
  },
  {
   "cell_type": "code",
   "execution_count": 74,
   "metadata": {},
   "outputs": [
    {
     "data": {
      "text/plain": [
       "2017-01-31   -0.183357\n",
       "2017-02-28    2.316592\n",
       "2017-03-31   -0.175083\n",
       "2017-04-30   -1.269801\n",
       "2017-05-31   -1.532770\n",
       "2017-06-30   -3.463608\n",
       "2017-07-31    1.397774\n",
       "2017-08-31    3.474662\n",
       "2017-09-30   -2.358470\n",
       "2017-10-31    3.530173\n",
       "2017-11-30    0.915685\n",
       "2017-12-31    3.490710\n",
       "2018-01-31    4.389871\n",
       "2018-02-28    0.412759\n",
       "dtype: float64"
      ]
     },
     "execution_count": 74,
     "metadata": {},
     "output_type": "execute_result"
    }
   ],
   "source": [
    "ts.groupby(offset.rollforward).sum()"
   ]
  },
  {
   "cell_type": "code",
   "execution_count": 78,
   "metadata": {},
   "outputs": [
    {
     "data": {
      "text/plain": [
       "2017-01-31   -0.022920\n",
       "2017-02-28    0.330942\n",
       "2017-03-31   -0.021885\n",
       "2017-04-30   -0.181400\n",
       "2017-05-31   -0.191596\n",
       "2017-06-30   -0.432951\n",
       "2017-07-31    0.199682\n",
       "2017-08-31    0.434333\n",
       "2017-09-30   -0.294809\n",
       "2017-10-31    0.504310\n",
       "2017-11-30    0.114461\n",
       "2017-12-31    0.436339\n",
       "2018-01-31    0.627124\n",
       "2018-02-28    0.412759\n",
       "Freq: M, dtype: float64"
      ]
     },
     "execution_count": 78,
     "metadata": {},
     "output_type": "execute_result"
    }
   ],
   "source": [
    "ts.resample('M').mean() ## 可以使用resample，写法更简单"
   ]
  },
  {
   "cell_type": "markdown",
   "metadata": {},
   "source": [
    "**时区调整， pytz库**"
   ]
  },
  {
   "cell_type": "code",
   "execution_count": 79,
   "metadata": {},
   "outputs": [],
   "source": [
    "import pytz"
   ]
  },
  {
   "cell_type": "code",
   "execution_count": 88,
   "metadata": {},
   "outputs": [
    {
     "data": {
      "text/plain": [
       "['US/Central', 'US/Eastern', 'US/Hawaii', 'US/Mountain', 'US/Pacific', 'UTC']"
      ]
     },
     "execution_count": 88,
     "metadata": {},
     "output_type": "execute_result"
    }
   ],
   "source": [
    "pytz.common_timezones[-6:]"
   ]
  },
  {
   "cell_type": "code",
   "execution_count": 94,
   "metadata": {},
   "outputs": [
    {
     "data": {
      "text/plain": [
       "'US/Hawaii'"
      ]
     },
     "execution_count": 94,
     "metadata": {},
     "output_type": "execute_result"
    }
   ],
   "source": [
    "tz = pytz.timezone('US/Hawaii')\n",
    "str(tz)"
   ]
  },
  {
   "cell_type": "markdown",
   "metadata": {},
   "source": [
    "**pandas画图**"
   ]
  },
  {
   "cell_type": "code",
   "execution_count": 97,
   "metadata": {},
   "outputs": [
    {
     "data": {
      "text/plain": [
       "2017-01-01    0.541116\n",
       "2017-01-05   -0.965503\n",
       "2017-01-09    0.230030\n",
       "2017-01-13    0.587222\n",
       "2017-01-17    1.099498\n",
       "2017-01-21   -1.186084\n",
       "2017-01-25   -0.447030\n",
       "2017-01-29   -0.042606\n",
       "2017-02-02    0.573677\n",
       "2017-02-06    0.308026\n",
       "2017-02-10    1.468908\n",
       "2017-02-14   -0.342624\n",
       "2017-02-18   -0.520637\n",
       "2017-02-22    1.152395\n",
       "2017-02-26   -0.323153\n",
       "2017-03-02    0.366921\n",
       "2017-03-06   -0.767252\n",
       "2017-03-10    0.431629\n",
       "2017-03-14   -1.436694\n",
       "2017-03-18    0.399386\n",
       "2017-03-22   -1.400274\n",
       "2017-03-26    1.521296\n",
       "2017-03-30    0.709904\n",
       "2017-04-03   -2.392442\n",
       "2017-04-07    0.006390\n",
       "2017-04-11   -0.450353\n",
       "2017-04-15    0.723505\n",
       "2017-04-19    0.741029\n",
       "2017-04-23    0.443791\n",
       "2017-04-27   -0.341721\n",
       "                ...   \n",
       "2017-10-08    0.674794\n",
       "2017-10-12    0.734812\n",
       "2017-10-16   -0.545369\n",
       "2017-10-20    0.953113\n",
       "2017-10-24    0.407173\n",
       "2017-10-28   -1.442863\n",
       "2017-11-01    0.099536\n",
       "2017-11-05    0.567935\n",
       "2017-11-09    1.630107\n",
       "2017-11-13   -1.387016\n",
       "2017-11-17    0.103657\n",
       "2017-11-21    0.310968\n",
       "2017-11-25    0.981352\n",
       "2017-11-29   -1.390856\n",
       "2017-12-03   -0.940390\n",
       "2017-12-07   -0.233682\n",
       "2017-12-11    1.361492\n",
       "2017-12-15   -0.455908\n",
       "2017-12-19    0.851447\n",
       "2017-12-23    1.115484\n",
       "2017-12-27    1.866328\n",
       "2017-12-31   -0.074061\n",
       "2018-01-04   -1.298285\n",
       "2018-01-08    1.820625\n",
       "2018-01-12    1.441607\n",
       "2018-01-16   -2.164413\n",
       "2018-01-20   -0.648974\n",
       "2018-01-24    2.604232\n",
       "2018-01-28    2.635080\n",
       "2018-02-01    0.412759\n",
       "Freq: 4D, Length: 100, dtype: float64"
      ]
     },
     "execution_count": 97,
     "metadata": {},
     "output_type": "execute_result"
    }
   ],
   "source": [
    "ts"
   ]
  },
  {
   "cell_type": "code",
   "execution_count": 99,
   "metadata": {},
   "outputs": [],
   "source": [
    "import matplotlib.pyplot as plt"
   ]
  },
  {
   "cell_type": "code",
   "execution_count": 109,
   "metadata": {},
   "outputs": [
    {
     "data": {
      "text/plain": [
       "<matplotlib.axes._subplots.AxesSubplot at 0x1cacdc9f8d0>"
      ]
     },
     "execution_count": 109,
     "metadata": {},
     "output_type": "execute_result"
    },
    {
     "data": {
      "image/png": "[encoded data removed]",
      "text/plain": [
       "<Figure size 432x288 with 1 Axes>"
      ]
     },
     "metadata": {
      "needs_background": "light"
     },
     "output_type": "display_data"
    }
   ],
   "source": [
    "ts.plot()"
   ]
  },
  {
   "cell_type": "code",
   "execution_count": 116,
   "metadata": {},
   "outputs": [
    {
     "data": {
      "text/plain": [
       "<matplotlib.axes._subplots.AxesSubplot at 0x1cacf143a20>"
      ]
     },
     "execution_count": 116,
     "metadata": {},
     "output_type": "execute_result"
    },
    {
     "data": {
      "image/png": "[encoded data removed]",
      "text/plain": [
       "<Figure size 432x288 with 1 Axes>"
      ]
     },
     "metadata": {
      "needs_background": "light"
     },
     "output_type": "display_data"
    }
   ],
   "source": [
    "ts.loc['2017'].plot() ## 按照时间序列画图"
   ]
  },
  {
   "cell_type": "code",
   "execution_count": 118,
   "metadata": {},
   "outputs": [
    {
     "data": {
      "text/plain": [
       "<matplotlib.axes._subplots.AxesSubplot at 0x1cacf2070f0>"
      ]
     },
     "execution_count": 118,
     "metadata": {},
     "output_type": "execute_result"
    },
    {
     "data": {
      "image/png": "[encoded data removed]",
      "text/plain": [
       "<Figure size 432x288 with 1 Axes>"
      ]
     },
     "metadata": {
      "needs_background": "light"
     },
     "output_type": "display_data"
    }
   ],
   "source": [
    "ts.loc['2017/1/1':'2017/10/1'].plot() ## 时间段画图，中间是:"
   ]
  },
  {
   "cell_type": "code",
   "execution_count": 121,
   "metadata": {},
   "outputs": [
    {
     "data": {
      "text/plain": [
       "2017-03-31   -0.023271\n",
       "2017-06-30   -0.331864\n",
       "2017-09-30    0.696199\n",
       "2017-12-31    0.035077\n",
       "Freq: Q-DEC, dtype: float64"
      ]
     },
     "execution_count": 121,
     "metadata": {},
     "output_type": "execute_result"
    }
   ],
   "source": [
    "ts_q = ts['2017'].resample('Q-DEC').ffill()\n",
    "ts_q"
   ]
  },
  {
   "cell_type": "code",
   "execution_count": 123,
   "metadata": {},
   "outputs": [
    {
     "data": {
      "text/plain": [
       "<matplotlib.axes._subplots.AxesSubplot at 0x1cacf302dd8>"
      ]
     },
     "execution_count": 123,
     "metadata": {},
     "output_type": "execute_result"
    },
    {
     "data": {
      "image/png": "[encoded data removed]",
      "text/plain": [
       "<Figure size 432x288 with 1 Axes>"
      ]
     },
     "metadata": {
      "needs_background": "light"
     },
     "output_type": "display_data"
    }
   ],
   "source": [
    "ts_q.plot()"
   ]
  },
  {
   "cell_type": "code",
   "execution_count": null,
   "metadata": {},
   "outputs": [],
   "source": []
  }
 ],
 "metadata": {
  "kernelspec": {
   "display_name": "Python 3",
   "language": "python",
   "name": "python3"
  },
  "language_info": {
   "codemirror_mode": {
    "name": "ipython",
    "version": 3
   },
   "file_extension": ".py",
   "mimetype": "text/x-python",
   "name": "python",
   "nbconvert_exporter": "python",
   "pygments_lexer": "ipython3",
   "version": "3.6.5"
  }
 },
 "nbformat": 4,
 "nbformat_minor": 2
}
