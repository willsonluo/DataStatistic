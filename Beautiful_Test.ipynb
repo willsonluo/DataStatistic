{
 "cells": [
  {
   "cell_type": "code",
   "execution_count": 36,
   "metadata": {},
   "outputs": [
    {
     "name": "stdout",
     "output_type": "stream",
     "text": [
      "https://www.shanbay.com/wordlist/120562/276385/?page=\n"
     ]
    }
   ],
   "source": [
    "from bs4 import BeautifulSoup\n",
    "from urllib.request import urlopen\n",
    "url_list =[\"https://www.shanbay.com/wordlist/120562/276385/?page=\",\"https://www.shanbay.com/wordlist/120562/276388/?page=\",\\\n",
    "           \"https://www.shanbay.com/wordlist/120562/276664/?page=\",\"https://www.shanbay.com/wordlist/120562/276394/?page=\",\\\n",
    "           \"https://www.shanbay.com/wordlist/120562/276397/?page=\",\"https://www.shanbay.com/wordlist/120562/276400/?page=\",\\\n",
    "           \"https://www.shanbay.com/wordlist/120562/276403/?page=\",\"https://www.shanbay.com/wordlist/120562/276406/?page=\"]\n",
    "print(url_list[0])\n",
    "# if has Chinese, apply decode()\n",
    "fp = open(\"pl5.txt\",\"a\")\n",
    "for x in range(len(url_list)):\n",
    "    for i in range(10):\n",
    "        url = url_list[x]+str(i+1)   #'https://www.shanbay.com/wordlist/120562/276388/?page='+str(i+1)\n",
    "        html = urlopen(url).read().decode('utf-8')\n",
    "        soup = BeautifulSoup(html, features='lxml')\n",
    "        tables = soup.findAll('table')\n",
    "        tab = tables[0]\n",
    "        for tr in tab.tbody.findAll('tr'):\n",
    "            for td in tr.findAll('td'):\n",
    "                text = td.getText().strip()+','\n",
    "                fp.write(text)\n",
    "            fp.write('\\n')\n",
    "fp.close()"
   ]
  },
  {
   "cell_type": "code",
   "execution_count": 30,
   "metadata": {},
   "outputs": [],
   "source": []
  },
  {
   "cell_type": "code",
   "execution_count": null,
   "metadata": {},
   "outputs": [],
   "source": []
  }
 ],
 "metadata": {
  "kernelspec": {
   "display_name": "Python 3",
   "language": "python",
   "name": "python3"
  },
  "language_info": {
   "codemirror_mode": {
    "name": "ipython",
    "version": 3
   },
   "file_extension": ".py",
   "mimetype": "text/x-python",
   "name": "python",
   "nbconvert_exporter": "python",
   "pygments_lexer": "ipython3",
   "version": "3.7.0"
  }
 },
 "nbformat": 4,
 "nbformat_minor": 2
}
